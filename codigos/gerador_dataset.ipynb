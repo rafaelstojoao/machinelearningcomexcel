{
 "cells": [
  {
   "cell_type": "code",
   "execution_count": 1,
   "metadata": {},
   "outputs": [
    {
     "name": "stdout",
     "output_type": "stream",
     "text": [
      "Requirement already satisfied: faker in c:\\users\\rafael\\appdata\\local\\packages\\pythonsoftwarefoundation.python.3.11_qbz5n2kfra8p0\\localcache\\local-packages\\python311\\site-packages (19.11.0)\n",
      "Requirement already satisfied: python-dateutil>=2.4 in c:\\users\\rafael\\appdata\\local\\packages\\pythonsoftwarefoundation.python.3.11_qbz5n2kfra8p0\\localcache\\local-packages\\python311\\site-packages (from faker) (2.8.2)\n",
      "Requirement already satisfied: six>=1.5 in c:\\users\\rafael\\appdata\\local\\packages\\pythonsoftwarefoundation.python.3.11_qbz5n2kfra8p0\\localcache\\local-packages\\python311\\site-packages (from python-dateutil>=2.4->faker) (1.16.0)\n"
     ]
    },
    {
     "name": "stderr",
     "output_type": "stream",
     "text": [
      "ERROR: Could not find a version that satisfies the requirement faker-br (from versions: none)\n",
      "ERROR: No matching distribution found for faker-br\n"
     ]
    },
    {
     "data": {
      "text/plain": [
       "['en_US']"
      ]
     },
     "execution_count": 1,
     "metadata": {},
     "output_type": "execute_result"
    }
   ],
   "source": [
    "import pandas as pd\n",
    "import random\n",
    "!pip3 install faker\n",
    "!pip3 install faker-br\n",
    "from faker import Faker\n",
    "\n",
    "\n",
    "# Cria um gerador de dados fictícios para nomes e informações pessoais\n",
    "fake = Faker()\n",
    "fake.locales"
   ]
  },
  {
   "cell_type": "code",
   "execution_count": null,
   "metadata": {},
   "outputs": [],
   "source": [
    "\n",
    "\n",
    "# Define as listas para armazenar os dados\n",
    "data = {\n",
    "    \"Data\": [],\n",
    "    \"Umidade\": [],\n",
    "    \"Temperatura\": [],\n",
    "    \"Vento\": [],\n",
    "    \"Chuva mm\": [],\n",
    "    \"Sensor\": [],\n",
    "    \"Cidade\": []\n",
    "    \n",
    "}\n",
    "\n",
    "# Gera 200 linhas de dados fictícios\n",
    "for i in range(1, 300):\n",
    "    data[\"Data\"].append(fake.date_of_birth(minimum_age=0, maximum_age=1).strftime(\"%d-%m-%Y\"))\n",
    "    data[\"Umidade\"].append(round(random.uniform(10, 100), 2))\n",
    "    data[\"Temperatura\"].append(round(random.uniform(7, 45), 2))\n",
    "    data[\"Vento\"].append(round(random.uniform(0, 80), 2))\n",
    "    data[\"Chuva mm\"].append(round(random.uniform(0, 100), 2))\n",
    "    data[\"Sensor\"].append(random.choice([\"00f1\", \"01f1\", \"12g1\", \"gr11\"]))\n",
    "    data[\"Cidade\"].append(random.choice([\"Adamantina\", \"Lucelia\", \"Pacaembu\", \"Osvaldo Cruz\"]))\n",
    "    \n",
    "\n",
    "\n",
    "# Cria um DataFrame com os dados\n",
    "df = pd.DataFrame(data)\n",
    "\n",
    "# Salva o DataFrame em um arquivo CSV\n",
    "df.to_excel(\"./ds_ruidosa.xlsx\", index=False)\n",
    "\n",
    "print(\"Conjunto de dados gerado e salvo como 'dataset_vendas.csv'.\")\n"
   ]
  },
  {
   "cell_type": "code",
   "execution_count": null,
   "metadata": {},
   "outputs": [],
   "source": [
    "\n",
    "\n",
    "# Define as listas para armazenar os dados\n",
    "data = {\n",
    "    \"ClienteID\": [],\n",
    "    \"Nome\": [],\n",
    "    \"Idade\": [],\n",
    "    \"Gênero\": [],\n",
    "    \"Cidade\": [],\n",
    "    \"ProdutoID\": [],\n",
    "    \"Nome do Produto\": [],\n",
    "    \"Categoria\": [],\n",
    "    \"Preço\": [],\n",
    "    \"CompraID\": [],\n",
    "    \"Data da Compra\": [],\n",
    "    \"Quantidade\": [],\n",
    "    \"Forma de Pagamento\": []\n",
    "}\n",
    "\n",
    "# Gera 200 linhas de dados fictícios\n",
    "for i in range(1, 1000):\n",
    "    data[\"ClienteID\"].append(i)\n",
    "    data[\"Nome\"].append(fake.name())\n",
    "    data[\"Idade\"].append(random.randint(18, 70))\n",
    "    data[\"Gênero\"].append(random.choice([\"Masculino\", \"Feminino\"]))\n",
    "    data[\"Cidade\"].append(random.choice([\"Adamantina\", \"Lucelia\", \"Dracena\", \"Osvaldo Cruz\"]))\n",
    "    data[\"ProdutoID\"].append(random.randint(101, 1000))\n",
    "    data[\"Nome do Produto\"].append(fake.word())\n",
    "    data[\"Categoria\"].append(random.choice([\"Eletrônicos\", \"Vestuário\", \"Livros\", \"Acessórios\", \"Casa\",\"Games\",\"Viagem\"]))\n",
    "    data[\"Preço\"].append(round(random.uniform(10, 1000), 2))\n",
    "    data[\"CompraID\"].append(i)\n",
    "    data[\"Data da Compra\"].append(fake.date_of_birth(minimum_age=0, maximum_age=1).strftime(\"%d-%m-%Y\"))\n",
    "    data[\"Quantidade\"].append(random.randint(1, 11))\n",
    "    data[\"Forma de Pagamento\"].append(random.choice([\"Cartão\", \"Dinheiro\", \"Boleto\"]))\n",
    "\n",
    "# Cria um DataFrame com os dados\n",
    "df = pd.DataFrame(data)\n",
    "\n",
    "# Salva o DataFrame em um arquivo CSV\n",
    "#df.to_excel(\"./dataset_vendas3.xlsx\", index=False)\n",
    "\n",
    "print(\"Conjunto de dados gerado e salvo como 'dataset_vendas.csv'.\")\n"
   ]
  }
 ],
 "metadata": {
  "kernelspec": {
   "display_name": "Python 3",
   "language": "python",
   "name": "python3"
  },
  "language_info": {
   "codemirror_mode": {
    "name": "ipython",
    "version": 3
   },
   "file_extension": ".py",
   "mimetype": "text/x-python",
   "name": "python",
   "nbconvert_exporter": "python",
   "pygments_lexer": "ipython3",
   "version": "3.11.6"
  }
 },
 "nbformat": 4,
 "nbformat_minor": 2
}
