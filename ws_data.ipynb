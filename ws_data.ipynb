{
 "cells": [
  {
   "cell_type": "markdown",
   "metadata": {},
   "source": [
    "<html><img src=\"./imgs/logofai.png\" style=\"width:200px; float: right;\"><br/><br/></html>\n"
   ]
  },
  {
   "cell_type": "markdown",
   "metadata": {},
   "source": [
    "# \n",
    "<html><img src=\"./imgs/curso.png\" style=\"width:100px; float: left;\"><br/><h1> -  Introdução à machine learning: Inteligência Artificial no Dia a Dia</h1><br/></html>\n",
    "\n",
    "## <b>23 e 24/10/2023</b>\n",
    "\n",
    "- CIC Fai 2023\n",
    "- professor Dr. Rafael Stoffalette João\n",
    "<html><hr></html>"
   ]
  },
  {
   "cell_type": "markdown",
   "metadata": {},
   "source": [
    "## Objetivos \n",
    "\n",
    "- É necessário saber programar? NÃO\n",
    "- É importante ter conhecimento básico sobre excel? TALVEZ\n",
    "- É essencial ter curiosidade? COM CERTEZA\n",
    "\n",
    "O OBJETIVO deste encontro é despertar a curiosidade e vontade de \"brincar\" com os dados. Muitas vezes temos \"achismos\" sobre muitas coisas no nosso dia a dia. Com os dados não é diferente. Só que no mundo dos dados, o achismo ganha outro nome, o <b>INSIGHT</b>.\n",
    "\n",
    "Um insight é uma pequena compreensão de um cenário, de forma intuitiva ou sistemática. \n",
    "\n",
    "Saber como operar as ferramentas para confirmar nossos insights é essencial. Motiva a nossa curiosidade para buscar mais conhecimento sobre os nossos dados. Consequentemente, mais conhecimento sobre tudo que fazemos durante nossos dias. \n",
    "\n",
    "\n",
    "<hr>"
   ]
  },
  {
   "cell_type": "markdown",
   "metadata": {},
   "source": [
    "## Bibliografia de referência\n",
    "\n",
    "<html><img src=\"./imgs/livro1.png\" style=\"width:100px; float: left; padding:5px;\"><br/><br/> MITCHELL, Tom M. Machine Learning. Nova Iorque: McGraw-Hill, 1997.\n",
    "<br/></html>\n",
    "\n",
    "\n",
    "<html><img src=\"./imgs/livro2.png\" style=\"width:100px; float: left; padding:5px;\"><br/><br/> HASTIE, Trevor; TIBSHIRANI, Robert; FRIEDMAN, Jerome. The elements of statistical learning: data mining, inference, and prediction. 2. ed. Nova Iorque: Springer, 2009.  <br/></html>\n",
    "\n",
    "\n",
    "<html><img src=\"./imgs/livro3.png\" style=\"width:100px; float: left; padding:5px;\"><br/><br/> HAN, Jiawei; KAMBER, Micheline; PEI, Jian. Data Mining: Concepts and Techniques. 3. ed. Vermont: Elsevier, 2011 (The Morgan Kaufmann Series in Data Management Systems).<br/></html>\n",
    "\n",
    "\n",
    "<br/><br/><br/><hr>\n",
    "\n",
    "\n"
   ]
  },
  {
   "cell_type": "markdown",
   "metadata": {},
   "source": [
    "## \n",
    "\n",
    "<html><img src=\"./imgs/excel.png\" style=\"width:200px;float:right;\"> <h1>Microsoft Excel</h1></html>\n",
    "\n",
    "O Excel é um editor de <b>planilhas digitais</b>. Mas o que de fato é uma planilha digital?\n",
    "\n",
    "-- Nada mais é que uma forma organizada de armazenar dados/informação em formato de tabela.\n",
    "\n",
    "<br/><br/><br/>\n",
    "\n",
    "\n",
    "## Dados x informação\n",
    "- Dado: qualquer valor armazenado.\n",
    "- Informação: compreensão útil (lógica) de um conjunto de dados.\n",
    "<br/>\n",
    "<br/>\n",
    "\n",
    "\n",
    "Os dados por si só não possuem valor ou utilidade, Mas quando são organizados e processados de forma adequada, podem se tornar informações valiosas\n",
    "\n",
    "- Exemplo 1:\n",
    "\n",
    "\n",
    "<html><img src=\"./imgs/info.png\"></html>\n",
    "\n",
    "\n",
    "Note que ao observar esse conjunto de dados, não dá para imaginar qual o contexto (semântica) por trás dos dados. \n",
    "Traz a sensação de: Por quê alguém armazenaria isso? Uma coisa não tem <b>relação</b> com outra\n",
    "\n",
    "<br/>\n",
    "<br/>\n",
    "<br/>\n",
    "\n",
    "- Exemplo 2:\n",
    "<html><img src=\"./imgs/info2.png\"></html>\n",
    "\n",
    "Já neste exemplo, é bem intuitivo, ao observar os dados, verificar que se trata de um conjunto de dados <b>sobre</b> pessoas. \n",
    "É essa a semântica/contexto. Essa relação entre as colunas é que nos dá a lógica dos dados, ou seja, a <b>INFORMAÇÃO</b>.\n",
    "\n",
    "\n",
    "<html><br/><br/><br/></html>\n",
    "\n",
    "Para pensar\n",
    "- Como aglomeramos dados? (fontes de dados)\n",
    "- Qual a frequência em que adquirimos dados?\n",
    "\n",
    "\n",
    "<br/><br/><br/><br/>\n",
    "O MS Excel é uma ferramnenta, das diversas, para lidar com dados. O conceito de planilhas deriva das tabelas\n",
    "\n",
    "\n",
    "<html><img src=\"./imgs/tabela.png\"style=\"width:400px; float: left; padding:10px;\"></html> <br/><br/> - A representação tabular está associada a um endereço: <br/> indicamos o endereço de algum dado, pelo índice que indica a linha que esse valor ocorre, seguido do número da coluna. <br/><br/><br/>Por exemplo, na imagem ao lado, o valor \"celula\" é o valor armazenado pela célula no <b>endereço</b> 3,3  (linha 3, coluna 3)\n",
    "\n",
    "\n",
    "\n"
   ]
  },
  {
   "cell_type": "markdown",
   "metadata": {},
   "source": [
    "# Conjunto de dados\n",
    "\n",
    "- Em muitos casos, os dados acabam sendo armazenados de uma forma não tão bem estruturada. \n",
    "- O relacionamento das tabelas, por si só, não garante <b> QUALIDADE </b> dos dados. \n",
    "- Desta forma, se torna muito difícil analisar dados que não tem qualidade - as informações são distorcidas\n",
    "\n",
    "\n",
    "\n",
    "## ETL (Extract Transform and Load - Extração, Transformação e Carga)\n",
    "\n",
    "Trata-se de uma das etapas mais importantes de uma análise inteligente. \n",
    "Estima-se que 60% de todo o esforço de uma análise é concentrado na preparação dos dados.\n",
    "- Extract: De onde os dados vem? Estão atualizados? Virão mais?\n",
    "- Transform: Os dados estão adequados? Existem <b>problemas</b> com os dados?\n",
    "- Load:  Para onde os dados irão? Qual objetivo desta análise?\n",
    "\n",
    "\n",
    "\n",
    "Etapa na qual:\n",
    "- as características não importantes são descartadas – limpeza;\n",
    "- mais de uma base de dados é utilizada – integração;\n",
    "- valores que fogem muito da normalidade são excluídos – detecção de outliers;\n",
    "- ruídos são filtrados;\n",
    "\n",
    "\n"
   ]
  },
  {
   "cell_type": "markdown",
   "metadata": {},
   "source": [
    "## Problemas comuns aos dados:\n",
    "\n",
    "Algumas situações são mais frequêntes que outras. \n",
    "<html> Vamos ver um base de dados de exemplo. Faça o download da base, clicando <a href=\"https://github.com/rafaelstojoao/machinelearningcomexcel/raw/main/ds_ruidosa.xlsx\" target=\"_blank\">AQUI</a></html>\n",
    "\n",
    "<br/>\n",
    "<br/>\n",
    "<br/>\n",
    "\n",
    "- <b>Dados Faltantes</b>\n",
    "\n",
    "Em muitas situações, a priorização de alguns valores, gera a despriorização de outros. Mas isso pode refletir em uma base de dados com os chamados \"dados faltantes\". \n",
    "É importante a conscientização de que, uma vez que os dados são definidos como importantes, eles devem ser sempre priorizados à mesma medida. Isso pois num futuro, pode-se querer ter uma visão diferente da necessidade atual e os dados faltantes vão <b>enviezar</b> sua análise.\n",
    "\n",
    "<br/>\n",
    "\n",
    "Veja a imagem abaixo. Observe que, por alguma razão alguns valores não estão presentes na tabela. Isso impossibilita uma análise dia a dia, por exemplo sobre as condições climáticas das cidades mapeadas. Nem todo dia pode ser considerado. [ou não - veremos como superar isso].\n",
    "\n",
    "<html><img src=\"./imgs/dados_faltante.png\"></html>\n",
    "\n",
    "<br/>\n",
    "<br/>\n",
    "<br/>\n",
    "\n",
    "- <b>Ruídos</b>\n",
    "\n",
    "Da mesma maneira, os ruídos, agem nos conjuntos de dados. Note, pore exemplo, na tabela abaixo, que (provavelmente) alguns erros no sensor fazem com que a palavra \"error\" apareça em meio aos números. \n",
    "\n",
    "<html><img src=\"./imgs/dados_ruido.png\"></html>\n",
    "\n",
    "É intuitivo que não dá para tratar textos e números da mesma maneira. \n",
    "<br/>\n",
    "<br/>\n",
    "\n",
    "Para <b> IDENTIFICAR </b> estas ocorrências, basta um filtro simples no Excel. \n",
    "Selecione a primeira linha de dados (cabeçalho) e busque pela opção <b>Ordenar e Filtrar</b>. Selecione a opção <b> Filtrar </b>, conforme a imagem abaixo nos mostra:\n",
    "<html><img src=\"./imgs/add_filter.png\"></html>\n",
    "\n",
    "<br/>\n",
    "\n",
    "Ao clicar nas \"setas\" que aparecem no cabeçalho, agora, você pode ordenar os dados (de forma crescente ou decrescente) e verificar ao final da coluna que os dados problemáticos aparecem todos reunidos lá.\n",
    "<html><img src=\"./imgs/add_filter2.png\"></html>\n",
    "\n",
    "\n",
    "\n",
    "\n",
    "Para ambos os casos (ruído e ausência de dados), existem diversas abordagens para a correção.  Podemos:\n",
    "\n",
    "- Simplesmente remover as linhas problemáticas\n",
    "- Utilizar o conceito de média para preencher o valor faltante/ruidoso - =AVERAGE(:)  / =MEDIA(:)\n",
    "- Utilizar o conceito de mediana para preencher o valor faltante/ruidoso (mais recomendado) - = MED(:) / \n",
    "- Utilizar o conceito de moda para preencher o valor faltante/ruidoso - = MODA.SIMPLES(:) /=MODE.SNGL(:)\n",
    "\n",
    "\n"
   ]
  },
  {
   "cell_type": "markdown",
   "metadata": {},
   "source": [
    "\n",
    "Média, mediana e moda são diferentes medidas de centro em um conjunto de dados numéricos. Cada uma delas busca resumir um conjunto de dados com um único número para representar um dado \"típico\" desse conjunto.\n",
    "- Média: o número \"médio\"; é encontrado somando-se todos os dados e dividindo pelo número de dados.\n",
    "Exemplo: a média de \n",
    "\\[4\\], \n",
    "\\[1\\] e \n",
    "\\[7\\] é \n",
    "\\[(4+1+7)/3 = 12/3 = 4\\].\n",
    "\n",
    "- Mediana: o número do centro; é encontrado ordenando-se todos os dados e escolhendo o que está no centro (ou, se houver dois números no centro, calculando-se a média desses dois números).\n",
    "Exemplo: a mediana de \n",
    "\\[4\\], \n",
    "\\[1\\] e \n",
    "\\[7\\] é \n",
    "\\[4\\] porque, quando os números são colocados em ordem \n",
    "\\[(1\\], \n",
    "\\[4\\], \n",
    "\\[7)\\], o número \n",
    "\\[4\\] está no centro.\n",
    "\n",
    "\n",
    "- Moda: o número mais frequente — ou seja, o número que aparece o maior número de vezes.\n",
    "Exemplo: a moda de \n",
    "\\[\\{4\\], \n",
    "\\[2\\], \n",
    "\\[4\\], \n",
    "\\[3\\], \n",
    "\\[2\\], \n",
    "\\[2\\}\\] é \n",
    "\\[2\\] porque ele aparece três vezes, ou seja, aparece mais que qualquer outro número."
   ]
  },
  {
   "cell_type": "markdown",
   "metadata": {},
   "source": [
    "\n",
    "\n",
    "- <b>Discrepâncias</b>\n",
    "\n",
    "Também chamadas de <b> Outliers</b> (fora da série)  é exatamente o que a tradução diz: um valor que foge à normalidade dos dados. \n",
    "<html><img src=\"./imgs/outliers.png\"></html>\n",
    "\n",
    "<html><img src=\"./imgs/outliers2.png\"></html>\n",
    "\n",
    "- Muitos valores numéricos\n",
    "- Escalas diferentes"
   ]
  },
  {
   "cell_type": "markdown",
   "metadata": {},
   "source": []
  },
  {
   "cell_type": "markdown",
   "metadata": {},
   "source": [
    "## Dados de treinamento e  dados de teste\n"
   ]
  },
  {
   "cell_type": "markdown",
   "metadata": {},
   "source": [
    "## Análise força bruta (intuitiva)\n",
    "\n",
    "*Treino com base de tenis"
   ]
  },
  {
   "cell_type": "markdown",
   "metadata": {},
   "source": [
    "## O que é mineração de dados\n",
    "- Introdução aos modelos simples de regressão linear e logística.\n",
    "\n",
    "\n",
    "A I.A. foi, inicialmente projetada, para prever\n",
    "valores e situações.\n",
    "A previsão só é possível pois algo é recorrente.\n",
    "– padrão\n",
    "\n",
    "\n",
    "<html><img src=\"./imgs/ml.png\" style=\"width:200px; float: left; padding:10px;\"></html>\n",
    "\n",
    "Para prever algo com eficiência é preciso aprender como o padrão se repete"
   ]
  },
  {
   "cell_type": "markdown",
   "metadata": {},
   "source": [
    "## Tarefa de classificação\n",
    "\n",
    "\n",
    "- altura: já é intuitivo separar exemplos em pessoas altas e baixas\n",
    "-- por que não começar a separar os dados da mesma maneira?\n",
    "\n",
    "- para isso, utiliza-se o conceito de ganho de informação\n"
   ]
  },
  {
   "cell_type": "markdown",
   "metadata": {},
   "source": [
    "## Introdução à Classificação de Texto\n",
    "- Princípios básicos de processamento de texto.\n",
    "- Análise de sentimento com classificação de texto usando Excel.\n",
    "- Avaliação de modelos de classificação de texto."
   ]
  },
  {
   "cell_type": "markdown",
   "metadata": {},
   "source": [
    "\n",
    "\n",
    "\n",
    "Descrição:\n",
    "\n",
    "Dia 1: Introdução ao Machine Learning e Excel\n",
    "Boas-vindas e apresentação do curso.\n",
    "O que é Machine Learning?\n",
    "Apresentação do Microsoft Excel para fins de análise de dados.\n",
    "Configuração do ambiente de trabalho no Excel.\n",
    "\n",
    "Dia 2: Pré-processamento de Dados\n",
    "Coleta e importação de dados no Excel.\n",
    "Limpeza de dados: tratamento de valores ausentes e duplicados.\n",
    "Transformação de dados: escalonamento, codificação de variáveis categóricas, etc.\n",
    "\n",
    "Dia 3: Divisão de Dados e Treinamento de Modelos Simples\n",
    "Divisão de dados em conjuntos de treinamento e teste.\n",
    "Introdução aos modelos simples de regressão linear e logística.\n",
    "Treinamento de modelos usando fórmulas e funções do Excel.\n",
    "\n",
    "Dia 4: Introdução a Modelos de Árvore de Decisão e Random Forest no Excel\n",
    "Explicação dos conceitos de árvores de decisão.\n",
    "Implementação de árvores de decisão e Random Forest no Excel.\n",
    "Avaliação de modelos de árvore usando Excel.\n",
    "\n",
    "Dia 5: Introdução à Classificação de Texto\n",
    "Princípios básicos de processamento de texto.\n",
    "Análise de sentimento com classificação de texto usando Excel.\n",
    "Avaliação de modelos de classificação de texto.\n",
    "\n",
    "Dia 6: Implementação de um Projeto de Machine Learning no Excel\n",
    "Trabalho prático: os participantes devem criar e treinar um modelo de Machine Learning em um conjunto de dados de sua escolha.\n",
    "Apresentação dos projetos e discussão em grupo.\n"
   ]
  },
  {
   "cell_type": "code",
   "execution_count": 3,
   "metadata": {},
   "outputs": [
    {
     "name": "stdout",
     "output_type": "stream",
     "text": [
      "Requirement already satisfied: faker in c:\\users\\rafael\\appdata\\local\\packages\\pythonsoftwarefoundation.python.3.11_qbz5n2kfra8p0\\localcache\\local-packages\\python311\\site-packages (19.11.0)\n",
      "Requirement already satisfied: python-dateutil>=2.4 in c:\\users\\rafael\\appdata\\local\\packages\\pythonsoftwarefoundation.python.3.11_qbz5n2kfra8p0\\localcache\\local-packages\\python311\\site-packages (from faker) (2.8.2)\n",
      "Requirement already satisfied: six>=1.5 in c:\\users\\rafael\\appdata\\local\\packages\\pythonsoftwarefoundation.python.3.11_qbz5n2kfra8p0\\localcache\\local-packages\\python311\\site-packages (from python-dateutil>=2.4->faker) (1.16.0)\n"
     ]
    },
    {
     "name": "stderr",
     "output_type": "stream",
     "text": [
      "ERROR: Could not find a version that satisfies the requirement faker-br (from versions: none)\n",
      "ERROR: No matching distribution found for faker-br\n"
     ]
    }
   ],
   "source": []
  },
  {
   "cell_type": "code",
   "execution_count": 4,
   "metadata": {},
   "outputs": [
    {
     "data": {
      "text/plain": [
       "['en_US']"
      ]
     },
     "execution_count": 4,
     "metadata": {},
     "output_type": "execute_result"
    }
   ],
   "source": []
  },
  {
   "cell_type": "code",
   "execution_count": 7,
   "metadata": {},
   "outputs": [
    {
     "name": "stdout",
     "output_type": "stream",
     "text": [
      "Conjunto de dados gerado e salvo como 'dataset_vendas.csv'.\n"
     ]
    }
   ],
   "source": []
  },
  {
   "cell_type": "code",
   "execution_count": null,
   "metadata": {},
   "outputs": [],
   "source": []
  },
  {
   "cell_type": "code",
   "execution_count": null,
   "metadata": {},
   "outputs": [],
   "source": [
    " "
   ]
  },
  {
   "cell_type": "markdown",
   "metadata": {},
   "source": [
    "| ClienteID | Nome     | Idade | Gênero | Cidade         | ProdutoID | Nome do Produto | Categoria | Preço | CompraID | Data da Compra | Quantidade | Forma de Pagamento |\n",
    "|-----------|----------|-------|--------|----------------|-----------|-----------------|-----------|-------|----------|-----------------|------------|--------------------|\n",
    "| 6         | Luiz     | 40    | Masculino | Curitiba     | 102       | Laptop          | Eletrônicos | 2200  | 6        | 2023-03-20      | 2          | Cartão             |\n",
    "| 7         | Sofia    | 28    | Feminino | Brasília     | 101       | Smartphone      | Eletrônicos | 1200  | 7        | 2023-03-21      | 1          | Dinheiro           |\n",
    "| 8         | Carlos   | 33    | Masculino | Belo Horizonte | 104       | Tênis           | Vestuário | 80    | 8        | 2023-03-22      | 3          | Cartão             |\n",
    "| 9         | Laura    | 29    | Feminino | Porto Alegre | 105       | Livro           | Livros | 15    | 9        | 2023-03-23      | 1          | Boleto             |\n",
    "| 10        | Mateus   | 45    | Masculino | Salvador     | 103       | Camiseta        | Vestuário | 20    | 10       | 2023-03-24      | 2          | Cartão             |\n",
    "| ...       | ...      | ...   | ...      | ...            | ...       | ...             | ...       | ...   | ...      | ...             | ...        | ...                |\n",
    "| 196       | Marcos   | 42    | Masculino | Curitiba       | 196       | Fone de Ouvido  | Eletrônicos | 50  | 196      | 2023-03-15      | 1          | Cartão             |\n",
    "| 197       | Luana    | 29    | Feminino | Fortaleza      | 197       | Saia            | Vestu\n"
   ]
  },
  {
   "cell_type": "markdown",
   "metadata": {},
   "source": [
    "=UNIQUE(dados!D2:dados!D999)\n",
    "\n",
    "\n",
    "Data >> Data Validation >> List\n"
   ]
  },
  {
   "cell_type": "markdown",
   "metadata": {},
   "source": [
    "•Como medir a habilidade de um dado atributo\n",
    "discriminar as classes?\n",
    "\n",
    "\n",
    "– Uma divisão que mantêm as proporções de classes\n",
    "em todas as partições é inútil.\n",
    "– Uma divisão onde em cada partição todos os\n",
    "exemplos são da mesma classe tem utilidade máxima."
   ]
  },
  {
   "cell_type": "markdown",
   "metadata": {},
   "source": [
    "Entropia\n",
    "\n",
    "\n",
    "S é uma amostra dos exemplos de treinamento\n",
    "• p é a proporção de exemplos positivos em S\n",
    "• q a proporção de exemplos negativos em S\n",
    "• Entropia mede a “impureza” de S:\n",
    "– Entropia(S)=- p log2 p - qlog2 q\n"
   ]
  },
  {
   "cell_type": "markdown",
   "metadata": {},
   "source": [
    "Naive Bayes\n",
    "\n",
    "\n",
    "Probabilístico\n",
    "P(A| B): Probabilidade de A ocorrer sendo que sei a probabilidade de B ocorrer\n",
    "P(B|A): Probabilidade de B ocorrer quando A ocorre\n",
    "P(A): Probabilidade de A ocorrer\n",
    "P(B): Probabilidade de B ocorrer\n",
    "\n",
    "\n",
    "- P(A|B)  = P(B|A)*P(A)/P(B)\n",
    "\n",
    "\n"
   ]
  },
  {
   "cell_type": "markdown",
   "metadata": {},
   "source": []
  },
  {
   "cell_type": "markdown",
   "metadata": {},
   "source": [
    "# ------------------------------------------------------------------------- #"
   ]
  },
  {
   "cell_type": "markdown",
   "metadata": {},
   "source": [
    "## Passo 1:\n",
    "* criar uma nova aba (planilha)\n",
    "* para cada coluna, vamos identificar todos os valores únicos\n",
    "* =UNIQUE(dados!A2:dados!A999)"
   ]
  },
  {
   "cell_type": "markdown",
   "metadata": {},
   "source": [
    "## Passo 2\n",
    "*  Agora, vamos incluir uma linha no topo da planilha (click com direito >> Inserir), \n",
    "* =COUNTA(B3:B1000)"
   ]
  },
  {
   "cell_type": "markdown",
   "metadata": {},
   "source": [
    "## Passo 3\n",
    "\n",
    "* Na guia DADOS, selecione a opção Validação de dados e \n",
    "\n",
    "\n",
    "<html><img src=\"./imgs/lista_suspensa.png\"></html>\n"
   ]
  },
  {
   "cell_type": "markdown",
   "metadata": {},
   "source": [
    "## Passo 4\n",
    "\n",
    "\n",
    "* =COUNTIF(dados!D2:dados!D1000; O5)\n",
    "\n",
    "* <html><img src=\"./imgs/2countif.png\"></html>\n"
   ]
  },
  {
   "cell_type": "markdown",
   "metadata": {},
   "source": [
    "## \n",
    "\n",
    "* \n",
    "\n",
    " <html><img src=\"./imgs/3graficos.png\"></html>"
   ]
  },
  {
   "cell_type": "markdown",
   "metadata": {},
   "source": [
    "## Passo 5\n",
    "\n",
    "\n",
    "* =FILTER(dados!A2:dados!M1000;(dados!M2:dados!M1000=S5))\n",
    "\n",
    "* =FILTER(dados!A2:dados!M1000;(dados!M2:dados!M1000=S5)*(O5=dados!D2:dados!D1000)*(P5=dados!E2:dados!E1000))\n",
    "\n",
    "=COUNTA(O26:O1026)\n",
    "\n",
    " <html><img src=\"./imgs/4filter.png\"></html>\n"
   ]
  },
  {
   "cell_type": "markdown",
   "metadata": {},
   "source": [
    " ## Passo 6 -  Classificando dados - análise de risco\n",
    " \n",
    " <html><img src=\"./imgs/naive.png\"></html>"
   ]
  },
  {
   "cell_type": "markdown",
   "metadata": {},
   "source": [
    "* =O7/$A$1\n",
    "\n",
    " <html><img src=\"./imgs/5prob.png\"></html>"
   ]
  },
  {
   "cell_type": "markdown",
   "metadata": {},
   "source": [
    "=FILTER(dados!A2:dados!M1000;(dados!M2:dados!M1000=S5)*(P5=dados!E2:dados!E1000))\n"
   ]
  },
  {
   "cell_type": "markdown",
   "metadata": {},
   "source": [
    " <html><img src=\"./imgs/7analise.png\"></html>"
   ]
  },
  {
   "cell_type": "markdown",
   "metadata": {},
   "source": [
    "## Mas e quando eu tenho muitos valores numéricos?  O que fazer?\n"
   ]
  },
  {
   "cell_type": "markdown",
   "metadata": {},
   "source": [
    "=CORREL()\n",
    "\n",
    "\n",
    "\n",
    "A correlação de Pearson é um teste estatístico que pode ser usado no cotidiano de profissionais diversos. Por norma, é empregada para manusear e obter entendimento sobre as variáveis indicadas.\n",
    "\n",
    "Com ela, é possível compreender sobre a aplicabilidade das mais variadas fórmulas, principalmente as utilizadas por cientistas de dados. Isso é fundamental para quem deseja se tornar um profissional especialista e multidisciplinar na área, em um mercado cada vez mais competitivo.\n",
    "\n",
    "O coeficiente de correlação de Pearson (r) é um teste cujo objetivo é medir o grau de correlação linear entre duas variáveis quantitativas, atributo ou característica de determinado assunto.\n",
    "\n",
    "A mensuração pode ser em relação à direção ou intensidade. Intensidade trata do relacionamento entre as variáveis indicadas. Já a direção é o tipo de correlação (positiva ou direta; negativa ou inversa).\n",
    "\n",
    "Na prática, é um índice dimensional “r” com valores que variam dos extremos entre -1 e +1, resultando na intensidade de uma relação linear entre dois conjuntos de dados. Se não houver linearidade entre os elementos associados, o coeficiente não será apresentado adequadamente. Logo, isso pode causar impactos nos resultados."
   ]
  },
  {
   "cell_type": "markdown",
   "metadata": {},
   "source": [
    " <html><img src=\"./imgs/6correl].png\"></html>"
   ]
  },
  {
   "cell_type": "markdown",
   "metadata": {},
   "source": [
    "=FORECAST(23;B2:B8;C2:C8)\n",
    "\n"
   ]
  }
 ],
 "metadata": {
  "kernelspec": {
   "display_name": "Python 3",
   "language": "python",
   "name": "python3"
  },
  "language_info": {
   "codemirror_mode": {
    "name": "ipython",
    "version": 3
   },
   "file_extension": ".py",
   "mimetype": "text/x-python",
   "name": "python",
   "nbconvert_exporter": "python",
   "pygments_lexer": "ipython3",
   "version": "3.11.6"
  }
 },
 "nbformat": 4,
 "nbformat_minor": 2
}
